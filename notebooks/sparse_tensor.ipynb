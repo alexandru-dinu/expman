{
 "cells": [
  {
   "cell_type": "code",
   "execution_count": null,
   "id": "b86372ae-a079-4b37-9b46-8d6eeec6bb55",
   "metadata": {},
   "outputs": [],
   "source": [
    "import os\n",
    "import sys\n",
    "from pathlib import Path\n",
    "\n",
    "import pandas as pd\n",
    "import numpy as np\n",
    "\n",
    "import torch as T\n",
    "import torch.nn as nn\n",
    "import torch.nn.functional as F\n",
    "from torch.utils.data import Dataset, DataLoader\n",
    "\n",
    "import matplotlib.pyplot as plt\n",
    "import seaborn as sns\n",
    "\n",
    "%matplotlib inline\n",
    "%config InlineBackend.figure_format = 'retina'\n",
    "sns.set()"
   ]
  },
  {
   "cell_type": "code",
   "execution_count": null,
   "id": "96767e4e-67e8-4183-9233-36741fa9485a",
   "metadata": {},
   "outputs": [],
   "source": [
    "def make_sparse(x):\n",
    "    nz = np.where(np.logical_not(np.isclose(x.numpy(), 0)))\n",
    "    sparse_x = T.sparse_coo_tensor(nz, x[nz], size=x.size(), dtype=T.float32)\n",
    "    \n",
    "    return sparse_x\n",
    "\n",
    "\n",
    "class SparseTensorDataset(Dataset):\n",
    "    def __init__(self, X, Y):\n",
    "        assert len(X) == len(Y)\n",
    "        self.X = X\n",
    "        self.Y = Y\n",
    "        \n",
    "    def __len__(self):\n",
    "        return len(self.X)\n",
    "    \n",
    "    def __getitem__(self, idx):\n",
    "        x = self.X[idx]\n",
    "        y = self.Y[idx]\n",
    "        \n",
    "        sparse_x = make_sparse(x)\n",
    "        \n",
    "        return (sparse_x, y)"
   ]
  },
  {
   "cell_type": "code",
   "execution_count": null,
   "id": "8e36ab0d-e1c5-4946-a21b-9cf6a1112cfa",
   "metadata": {},
   "outputs": [],
   "source": [
    "x = T.rand(10) * T.randint(0, 2, size=(10,))\n",
    "y = T.rand(10) * T.randint(0, 2, size=(10,))\n",
    "\n",
    "T.allclose(\n",
    "    make_sparse(x + y).coalesce().values(), \n",
    "    (make_sparse(x) + make_sparse(y)).coalesce().values()\n",
    ")"
   ]
  },
  {
   "cell_type": "code",
   "execution_count": null,
   "id": "6ed6f8af-191f-47c0-976b-e76cdfee9b84",
   "metadata": {},
   "outputs": [],
   "source": [
    "class Net(nn.Module):\n",
    "    def __init__(self, input_size, output_size):\n",
    "        super(Net, self).__init__()\n",
    "        \n",
    "        self.seq = nn.Sequential(\n",
    "            # nn.Linear(input_size, input_size),\n",
    "            # nn.ReLU(inplace=True),\n",
    "            nn.Linear(input_size, output_size),\n",
    "        )\n",
    "    \n",
    "    def forward(self, sx):\n",
    "        return T.sigmoid(self.seq(sx))"
   ]
  },
  {
   "cell_type": "markdown",
   "id": "a9c8ad51-af65-4d20-a4ba-7a5f3c0dc6be",
   "metadata": {},
   "source": [
    "### 1. Using `SparseTensor` out-of-the-box\n",
    "\n",
    "This will raise:\n",
    "```\n",
    "NotImplementedError: Cannot access storage of SparseTensorImpl\n",
    "```"
   ]
  },
  {
   "cell_type": "code",
   "execution_count": null,
   "id": "4a06062f-7a08-4d23-8169-a11758ca1fb1",
   "metadata": {},
   "outputs": [],
   "source": [
    "N = 10\n",
    "M = 32\n",
    "\n",
    "X = T.rand(N, M)\n",
    "Y = T.randint(0, 2, size=(N,))\n",
    "\n",
    "ds = SparseTensorDataset(X, Y)\n",
    "dl = DataLoader(ds, batch_size=4, shuffle=False, pin_memory=True, num_workers=2)\n",
    "\n",
    "for batch_idx, (sx, y) in enumerate(dl):\n",
    "    print(sx, y)\n",
    "    break"
   ]
  },
  {
   "cell_type": "markdown",
   "id": "c17cc578-7a02-418a-943f-82490f2fc791",
   "metadata": {},
   "source": [
    "### 2. Using `SparseTensor` without multiprocessing and memory pinning"
   ]
  },
  {
   "cell_type": "code",
   "execution_count": null,
   "id": "5077695b-7942-4310-af5d-fa4f9c7a82ba",
   "metadata": {},
   "outputs": [],
   "source": [
    "N = 1024 * 20\n",
    "M = 8\n",
    "\n",
    "X = T.rand(N, M) * T.randint(0, 2, size=(N, M))\n",
    "Y = (X.sum(dim=-1) < 2).to(T.float32)\n",
    "\n",
    "ds = SparseTensorDataset(X, Y)\n",
    "dl = DataLoader(ds, batch_size=256, shuffle=False, pin_memory=False, num_workers=0)\n",
    "\n",
    "net = Net(input_size=M, output_size=1)\n",
    "loss_crit = nn.BCELoss()\n",
    "optimizer = T.optim.Adam(filter(lambda p: p.requires_grad, net.parameters()), lr=0.001)\n",
    "scheduler = T.optim.lr_scheduler.StepLR(optimizer, step_size=30, gamma=0.5)\n",
    "avg_loss = 0\n",
    "\n",
    "net.cuda()\n",
    "\n",
    "for epoch_idx in range(1, 80 + 1):\n",
    "    \n",
    "    for batch_idx, (sx, y) in enumerate(dl, start=1):\n",
    "        sx, y = sx.cuda(), y.cuda()\n",
    "        \n",
    "        # print(f\"{sx=}\")\n",
    "        # print('-' * 128)\n",
    "        # print(f\"{y=}\")\n",
    "\n",
    "        # print('-' * 128)\n",
    "\n",
    "        y_pred = net(sx)\n",
    "        # print(f'{y_pred=}')\n",
    "\n",
    "        # print('-' * 128)\n",
    "\n",
    "        optimizer.zero_grad()\n",
    "        loss = loss_crit(y_pred.to(T.float32), y.unsqueeze(1).to(T.float32))\n",
    "        loss.backward()\n",
    "        optimizer.step()\n",
    "        \n",
    "        avg_loss += loss.item() / len(dl)\n",
    "    # ---\n",
    "\n",
    "    info = [\n",
    "        f\"{epoch_idx=:2d}\", f\"lr={scheduler.get_last_lr()}\", f\"avg_loss={loss.item():.5f}\",\n",
    "        f\"avg w={net.seq[0].weight.mean().item():.5f}\", f\"bias={net.seq[0].bias.item():.5f}\",\n",
    "    ]\n",
    "    print(' | '.join(info), end='\\r')\n",
    "\n",
    "    scheduler.step()\n",
    "    avg_loss = 0"
   ]
  },
  {
   "cell_type": "code",
   "execution_count": null,
   "id": "b5aedb51-dd33-47e9-954b-78fe11b8afb8",
   "metadata": {},
   "outputs": [],
   "source": [
    "x = T.rand(1, M) * T.randint(0, 2, size=(1, M))\n",
    "true = (x.sum(dim=-1) < 2).item()\n",
    "\n",
    "net(x.cuda()), net(make_sparse(x).cuda()), true"
   ]
  },
  {
   "cell_type": "code",
   "execution_count": null,
   "id": "8fb6919a-e2c1-41ab-b7e6-4e2764fe9c1e",
   "metadata": {},
   "outputs": [],
   "source": []
  }
 ],
 "metadata": {
  "kernelspec": {
   "display_name": "Python 3 (ipykernel)",
   "language": "python",
   "name": "python3"
  },
  "language_info": {
   "codemirror_mode": {
    "name": "ipython",
    "version": 3
   },
   "file_extension": ".py",
   "mimetype": "text/x-python",
   "name": "python",
   "nbconvert_exporter": "python",
   "pygments_lexer": "ipython3",
   "version": "3.8.12"
  }
 },
 "nbformat": 4,
 "nbformat_minor": 5
}
